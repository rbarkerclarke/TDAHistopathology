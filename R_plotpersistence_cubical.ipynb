{
  "nbformat": 4,
  "nbformat_minor": 0,
  "metadata": {
    "colab": {
      "name": "R_plotpersistence_cubical.ipynb",
      "provenance": [],
      "authorship_tag": "ABX9TyM+XQIT8jtCenkrlgX2lcV6",
      "include_colab_link": true
    },
    "kernelspec": {
      "name": "ir",
      "display_name": "R"
    },
    "language_info": {
      "name": "R"
    }
  },
  "cells": [
    {
      "cell_type": "markdown",
      "metadata": {
        "id": "view-in-github",
        "colab_type": "text"
      },
      "source": [
        "<a href=\"https://colab.research.google.com/github/sbarkerclarke-phd/TDAHistopathology/blob/main/R_plotpersistence_cubical.ipynb\" target=\"_parent\"><img src=\"https://colab.research.google.com/assets/colab-badge.svg\" alt=\"Open In Colab\"/></a>"
      ]
    },
    {
      "cell_type": "code",
      "execution_count": null,
      "metadata": {
        "id": "IVCELklYmr5b"
      },
      "outputs": [],
      "source": [
        "install.packages(\"ripserr\")\n",
        "install.packages(\"googledrive\")\n",
        "install.packages('TDAstats')\n",
        "library(devtools)\n",
        "devtools::install_github(\"paultpearson/TDAmapper\")\n",
        ")\n",
        "install.packages(\"R.utils\")\n"
      ]
    },
    {
      "cell_type": "code",
      "source": [
        "library(googledrive)\n",
        "# authorize google drive\n",
        "# Check if is running in Colab and redefine is_interactive()\n",
        "if (file.exists(\"/usr/local/lib/python3.6/dist-packages/google/colab/_ipython.py\")) {\n",
        "  install.packages(\"R.utils\")\n",
        "  library(\"R.utils\")\n",
        "  library(\"httr\")\n",
        "  my_check <- function() {return(TRUE)}\n",
        "  reassignInPackage(\"is_interactive\", pkgName = \"httr\", my_check) \n",
        "  options(rlang_interactive=TRUE)\n",
        "}\n"
      ],
      "metadata": {
        "id": "lw5nEpGqn-Ou"
      },
      "execution_count": null,
      "outputs": []
    },
    {
      "cell_type": "code",
      "source": [
        "install.packages(\"httpuv\")"
      ],
      "metadata": {
        "colab": {
          "base_uri": "https://localhost:8080/"
        },
        "id": "gaqrN4df1cUK",
        "outputId": "d26e336c-dd3e-4dae-e10d-e1eccd3b4cb1"
      },
      "execution_count": null,
      "outputs": [
        {
          "output_type": "stream",
          "name": "stderr",
          "text": [
            "Installing package into ‘/usr/local/lib/R/site-library’\n",
            "(as ‘lib’ is unspecified)\n",
            "\n",
            "also installing the dependencies ‘promises’, ‘later’\n",
            "\n",
            "\n"
          ]
        }
      ]
    },
    {
      "cell_type": "code",
      "source": [
        ""
      ],
      "metadata": {
        "id": "XZxqr19txdAf"
      },
      "execution_count": null,
      "outputs": []
    },
    {
      "cell_type": "code",
      "source": [
        "drive_auth(use_oob = TRUE, cache = TRUE)"
      ],
      "metadata": {
        "colab": {
          "base_uri": "https://localhost:8080/"
        },
        "id": "LqPXORNy2jIa",
        "outputId": "79f22d0c-aecb-4419-829e-48cb4c0adafa"
      },
      "execution_count": null,
      "outputs": [
        {
          "output_type": "stream",
          "name": "stderr",
          "text": [
            "Please point your browser to the following url: \n",
            "\n",
            "https://accounts.google.com/o/oauth2/auth?client_id=603366585132-dpeg5tt0et3go5of2374d83ifevk5086.apps.googleusercontent.com&scope=https%3A%2F%2Fwww.googleapis.com%2Fauth%2Fdrive%20https%3A%2F%2Fwww.googleapis.com%2Fauth%2Fuserinfo.email&redirect_uri=urn%3Aietf%3Awg%3Aoauth%3A2.0%3Aoob&response_type=code\n",
            "\n"
          ]
        },
        {
          "name": "stdout",
          "output_type": "stream",
          "text": [
            "Enter authorization code: 4/1AX4XfWiSNuACOnWYq_0ffmoWL0EU2Eoted7E3Ibpo8GvS8qBouk-3QL2Uho\n"
          ]
        }
      ]
    },
    {
      "cell_type": "code",
      "source": [
        "image = drive_get(\"hello.png\")"
      ],
      "metadata": {
        "colab": {
          "base_uri": "https://localhost:8080/",
          "height": 237
        },
        "id": "qTTp5MbH3x9G",
        "outputId": "f79570dc-94a3-46cd-af14-9514984be78e"
      },
      "execution_count": null,
      "outputs": [
        {
          "output_type": "stream",
          "name": "stderr",
          "text": [
            "\n",
            "\n",
            "\u001b[33m!\u001b[39m Problem with 1 path: no files found by this name\n",
            "\n",
            "  \u001b[34mhello.png\u001b[39m\n",
            "\n",
            "\u001b[33m!\u001b[39m No path resolved to exactly 1 file.\n",
            "\n"
          ]
        },
        {
          "output_type": "display_data",
          "data": {
            "text/html": [
              "<table class=\"dataframe\">\n",
              "<caption>A dribble: 0 × 4</caption>\n",
              "<thead>\n",
              "\t<tr><th scope=col>name</th><th scope=col>path</th><th scope=col>id</th><th scope=col>drive_resource</th></tr>\n",
              "\t<tr><th scope=col>&lt;chr&gt;</th><th scope=col>&lt;chr&gt;</th><th scope=col>&lt;drv_id&gt;</th><th scope=col>&lt;list&gt;</th></tr>\n",
              "</thead>\n",
              "<tbody>\n",
              "</tbody>\n",
              "</table>\n"
            ],
            "text/markdown": "\nA dribble: 0 × 4\n\n| name &lt;chr&gt; | path &lt;chr&gt; | id &lt;drv_id&gt; | drive_resource &lt;list&gt; |\n|---|---|---|---|\n\n",
            "text/latex": "A dribble: 0 × 4\n\\begin{tabular}{llll}\n name & path & id & drive\\_resource\\\\\n <chr> & <chr> & <drv\\_id> & <list>\\\\\n\\hline\n\\end{tabular}\n",
            "text/plain": [
              "     name path id drive_resource"
            ]
          },
          "metadata": {}
        }
      ]
    },
    {
      "cell_type": "code",
      "source": [
        "library(ripserr)\n",
        "library(TDAstats)\n",
        "library(ggplot2)\n",
        "library(TDAmapper)\n",
        "library(magrittr)\n",
        "library(R.utils)\n",
        "library(httr)"
      ],
      "metadata": {
        "id": "oGFlbcycnrZX"
      },
      "execution_count": null,
      "outputs": []
    },
    {
      "cell_type": "code",
      "source": [
        "# create dataset\n",
        "sample_image <- matrix(0, nrow = 1000, ncol = 1000)\n",
        "i <- 44:98\n",
        "j <- c(44,98)\n",
        "ii <- 33:60\n",
        "jj <- c(33,60)\n",
        "sample_image[i, j] <- rnorm(length(i),0.5)+3\n",
        "sample_image[j, i] <- rnorm(length(i),0.5)+3\n",
        "sample_image[ii, jj] <- rnorm(length(ii),1)+3\n",
        "sample_image[jj, ii] <- rnorm(length(ii),1)+3\n",
        "\n",
        "\n",
        "# view as image\n",
        "graphics::image(sample_image, useRaster = TRUE, axes = FALSE)"
      ],
      "metadata": {
        "colab": {
          "base_uri": "https://localhost:8080/",
          "height": 437
        },
        "id": "pbxc4uw3pk1Z",
        "outputId": "83755662-1b5e-473c-c8cb-ba385cf7a2c0"
      },
      "execution_count": null,
      "outputs": [
        {
          "output_type": "display_data",
          "data": {
            "text/plain": [
              "plot without title"
            ],
            "image/png": "[encoded data removed]"
          },
          "metadata": {
            "image/png": {
              "width": 420,
              "height": 420
            }
          }
        }
      ]
    },
    {
      "cell_type": "code",
      "source": [
        "# calculate persistent homology\n",
        "image_phom <- cubical(sample_image) %>% dplyr::filter(dimension!=-1)\n",
        "# plot diagram\n",
        "plot_barcode(as.matrix(image_phom))\n"
      ],
      "metadata": {
        "id": "kzmbg4eFot_u"
      },
      "execution_count": null,
      "outputs": []
    },
    {
      "cell_type": "code",
      "source": [
        "#Image data"
      ],
      "metadata": {
        "id": "ZyurJ17ow5n1"
      },
      "execution_count": null,
      "outputs": []
    }
  ]
}